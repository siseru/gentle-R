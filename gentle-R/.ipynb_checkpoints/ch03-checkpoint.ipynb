{
 "cells": [
  {
   "cell_type": "markdown",
   "metadata": {},
   "source": [
    "# 第3章 2つの変数の記述統計\n",
    "\n",
    "相関(量的変数同士の関係)や連関(質的変数同士の関係)について"
   ]
  },
  {
   "cell_type": "code",
   "execution_count": 20,
   "metadata": {},
   "outputs": [
    {
     "data": {
      "image/png": "[encoded data removed]",
      "text/plain": [
       "<matplotlib.figure.Figure at 0x10bf68f60>"
      ]
     },
     "metadata": {},
     "output_type": "display_data"
    }
   ],
   "source": [
    "import statistics as stat\n",
    "import numpy as np\n",
    "import matplotlib.pyplot as plt\n",
    "\n",
    "stat_test1 = np.array([6,10,6,10,5,3,5,9,3,3,11,6,1,9,7,5,8,7,7,9])\n",
    "stat_test2 = np.array([10,13,8,15,8,6,9,10,7,3,18,14,18,11,12,5,7,12,7,7])\n",
    "psych_test = np.array([13, 14, 7, 12, 10, 6, 8, 15, 4, 14, 9, 6, 10, 12, 5, 12, 8, 8, 12, 15])\n",
    "\n",
    "# https://pythondatascience.plavox.info/matplotlib/%E6%95%A3%E5%B8%83%E5%9B%B3\n",
    "plt.scatter(stat_test1, stat_test2)\n",
    "# 他の図とスケールを合わせる為にx,y軸の最小最大値を指定しておく\n",
    "plt.ylim(0, 20)\n",
    "plt.xlim(0, 20)\n",
    "plt.show()"
   ]
  },
  {
   "cell_type": "code",
   "execution_count": 16,
   "metadata": {},
   "outputs": [
    {
     "data": {
      "image/png": "[encoded data removed]",
      "text/plain": [
       "<matplotlib.figure.Figure at 0x10c1845c0>"
      ]
     },
     "metadata": {},
     "output_type": "display_data"
    }
   ],
   "source": [
    "plt.scatter(psych_test, stat_test1)\n",
    "plt.ylim(0, 20)\n",
    "plt.xlim(0, 20)\n",
    "plt.show()"
   ]
  },
  {
   "cell_type": "code",
   "execution_count": 17,
   "metadata": {},
   "outputs": [
    {
     "data": {
      "image/png": "[encoded data removed]",
      "text/plain": [
       "<matplotlib.figure.Figure at 0x108a8a320>"
      ]
     },
     "metadata": {},
     "output_type": "display_data"
    }
   ],
   "source": [
    "plt.scatter(psych_test, stat_test2)\n",
    "plt.ylim(0, 20)\n",
    "plt.xlim(0, 20)\n",
    "plt.show()"
   ]
  },
  {
   "cell_type": "code",
   "execution_count": 72,
   "metadata": {},
   "outputs": [
    {
     "name": "stdout",
     "output_type": "stream",
     "text": [
      "3.55\n",
      "3.73684210526\n"
     ]
    }
   ],
   "source": [
    "# 共分散\n",
    "# https://docs.python.jp/3/library/statistics.html\n",
    "cov12 = np.mean((stat_test1 - np.mean(stat_test1)) * (stat_test2 - np.mean(stat_test2)))\n",
    "print(cov12)\n",
    "\n",
    "# 不偏共分散\n",
    "uncov12 = np.sum((stat_test1 - np.mean(stat_test1)) * (stat_test2 - np.mean(stat_test2))) / (20 - 1)\n",
    "print(uncov12)\n",
    "# なんか書籍と計算結果が違う"
   ]
  },
  {
   "cell_type": "code",
   "execution_count": 77,
   "metadata": {},
   "outputs": [
    {
     "name": "stdout",
     "output_type": "stream",
     "text": [
      "0.333212171275\n",
      "0.333212171275\n"
     ]
    }
   ],
   "source": [
    "# 相関係数\n",
    "# https://qiita.com/takaki@github/items/247ada674b594dd8fdce\n",
    "cor12 = cov12 / (np.std(stat_test1) * np.std(stat_test2))\n",
    "print(cor12)\n",
    "cor12np = np.corrcoef(stat_test1, stat_test2)\n",
    "print(cor12np[1,0])"
   ]
  },
  {
   "cell_type": "code",
   "execution_count": 90,
   "metadata": {},
   "outputs": [
    {
     "data": {
      "text/html": [
       "<div>\n",
       "<style scoped>\n",
       "    .dataframe tbody tr th:only-of-type {\n",
       "        vertical-align: middle;\n",
       "    }\n",
       "\n",
       "    .dataframe tbody tr th {\n",
       "        vertical-align: top;\n",
       "    }\n",
       "\n",
       "    .dataframe thead tr th {\n",
       "        text-align: left;\n",
       "    }\n",
       "\n",
       "    .dataframe thead tr:last-of-type th {\n",
       "        text-align: right;\n",
       "    }\n",
       "</style>\n",
       "<table border=\"1\" class=\"dataframe\">\n",
       "  <thead>\n",
       "    <tr>\n",
       "      <th></th>\n",
       "      <th colspan=\"2\" halign=\"left\">len</th>\n",
       "    </tr>\n",
       "    <tr>\n",
       "      <th>stat</th>\n",
       "      <th>h</th>\n",
       "      <th>l</th>\n",
       "    </tr>\n",
       "    <tr>\n",
       "      <th>math</th>\n",
       "      <th></th>\n",
       "      <th></th>\n",
       "    </tr>\n",
       "  </thead>\n",
       "  <tbody>\n",
       "    <tr>\n",
       "      <th>h</th>\n",
       "      <td>10</td>\n",
       "      <td>4</td>\n",
       "    </tr>\n",
       "    <tr>\n",
       "      <th>l</th>\n",
       "      <td>2</td>\n",
       "      <td>4</td>\n",
       "    </tr>\n",
       "  </tbody>\n",
       "</table>\n",
       "</div>"
      ],
      "text/plain": [
       "     len   \n",
       "stat   h  l\n",
       "math       \n",
       "h     10  4\n",
       "l      2  4"
      ]
     },
     "execution_count": 90,
     "metadata": {},
     "output_type": "execute_result"
    }
   ],
   "source": [
    "# クロス集計\n",
    "# http://docs.pyq.jp/python/pydata/pandas/pivot_table.html\n",
    "import pandas as pd\n",
    "df = pd.DataFrame({'math' : np.array([\"h\", \"h\",\"l\",\"l\",\"h\",\"h\",\"h\",\"h\",\"h\",\"l\",\"l\",\"h\",\"l\",\"h\",\"h\",\"l\",\"h\",\"h\",\"h\",\"h\"]),\n",
    "                   'stat' : np.array([\"l\",\"l\",\"l\",\"l\",\"h\",\"h\",\"h\",\"h\",\"h\",\"h\",\"l\",\"l\",\"l\",\"h\",\"l\",\"h\",\"h\",\"h\",\"h\",\"h\"])})\n",
    "df.pivot_table(index='math', columns='stat', aggfunc=[len])"
   ]
  },
  {
   "cell_type": "code",
   "execution_count": 97,
   "metadata": {},
   "outputs": [
    {
     "name": "stdout",
     "output_type": "stream",
     "text": [
      "[0, 0, 1, 1, 0, 0, 0, 0, 0, 1, 1, 0, 1, 0, 0, 1, 0, 0, 0, 0] [1, 1, 1, 1, 0, 0, 0, 0, 0, 0, 1, 1, 1, 0, 1, 0, 0, 0, 0, 0]\n",
      "0.35634832255\n"
     ]
    }
   ],
   "source": [
    "# ファイ係数\n",
    "# 内包表記で変換\n",
    "# http://www.lifewithpython.com/2014/09/python-list-comprehension-and-generator-expression-and-dict-comprehension.html\n",
    "mathd = [0 if x == 'h' else 1 for x in df['math']]\n",
    "statd = [0 if x == 'h' else 1 for x in df['stat']]\n",
    "print(mathd,statd)\n",
    "print(np.corrcoef(mathd,statd)[1,0])"
   ]
  },
  {
   "cell_type": "code",
   "execution_count": null,
   "metadata": {},
   "outputs": [],
   "source": []
  }
 ],
 "metadata": {
  "kernelspec": {
   "display_name": "Python 3",
   "language": "python",
   "name": "python3"
  },
  "language_info": {
   "codemirror_mode": {
    "name": "ipython",
    "version": 3
   },
   "file_extension": ".py",
   "mimetype": "text/x-python",
   "name": "python",
   "nbconvert_exporter": "python",
   "pygments_lexer": "ipython3",
   "version": "3.6.3"
  }
 },
 "nbformat": 4,
 "nbformat_minor": 2
}
