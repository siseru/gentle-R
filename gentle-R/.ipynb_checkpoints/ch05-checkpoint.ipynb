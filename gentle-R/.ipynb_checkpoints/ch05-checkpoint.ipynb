{
 "cells": [
  {
   "cell_type": "markdown",
   "metadata": {},
   "source": [
    "### 第 5 章 統計仮説検定\n",
    "\n",
    "numpy だけでは検定まわりの関数などが不足するので scipy.stats を使う。\n",
    "\n",
    "参考サイト\n",
    "http://marui.hatenablog.com/entry/2017/03/28/114953\n",
    "https://qiita.com/supersaiakujin/items/71540d1ecd60ced65add"
   ]
  },
  {
   "cell_type": "code",
   "execution_count": 2,
   "metadata": {},
   "outputs": [],
   "source": [
    "import numpy as np\n",
    "import matplotlib.pyplot as plt\n",
    "from scipy import stats\n",
    "import pandas as pd"
   ]
  },
  {
   "cell_type": "markdown",
   "metadata": {},
   "source": [
    "#### 検定統計量\n",
    "\n",
    "代表的なもの。\n",
    "\n",
    "* t\n",
    "* カイ二乗\n",
    "* F\n",
    "\n",
    "これらの統計検定量の実現値 (リテラル) は、帰無仮説を棄却し対立仮説を支持するほど 0 から離れた値を示す。"
   ]
  },
  {
   "cell_type": "markdown",
   "metadata": {},
   "source": [
    "#### 有意水準\n",
    "\n",
    "一般的には 5% か 1% に設定される。有意水準はαで表し、α=0.05 ならば 5% という事。\n",
    "\n",
    "帰無仮説が正しいという仮定のもので、標本から計算した検定統計量の実現値以上の値が得られる確率を p 値 と言う。\n",
    "p < αの時、帰無仮説が棄却される。\n"
   ]
  },
  {
   "cell_type": "markdown",
   "metadata": {},
   "source": [
    "#### 標準正規分布を用いた検定\n",
    "\n",
    "1 つの平均値の検定。母分散$σ^{2}$が既知の場合\n",
    "以下の検定量を使う。\n",
    "\n",
    "$$\n",
    "Z = \\frac{\\overline{X}-μ}{σ/\\sqrt{n}}\n",
    "$$"
   ]
  },
  {
   "cell_type": "code",
   "execution_count": 3,
   "metadata": {},
   "outputs": [],
   "source": [
    "# 心理学テストの結果、標本\n",
    "ptest = np.array([13, 14, 7, 12, 10, 6, 8, 15, 4, 14, 9, 6, 10, 12, 5, 12, 8, 8, 12, 15])"
   ]
  },
  {
   "cell_type": "code",
   "execution_count": 4,
   "metadata": {},
   "outputs": [
    {
     "name": "stdout",
     "output_type": "stream",
     "text": [
      "-2.82842712475\n"
     ]
    }
   ],
   "source": [
    "pmean = 12 # 既知の母平均\n",
    "znumerator = np.mean(ptest) - pmean\n",
    "zdenominator = np.sqrt(10 / len(ptest))\n",
    "z = znumerator / zdenominator\n",
    "print(z)"
   ]
  },
  {
   "cell_type": "code",
   "execution_count": null,
   "metadata": {},
   "outputs": [],
   "source": []
  },
  {
   "cell_type": "code",
   "execution_count": 5,
   "metadata": {},
   "outputs": [
    {
     "name": "stdout",
     "output_type": "stream",
     "text": [
      "-1.95996398454\n",
      "1.95996398454\n"
     ]
    }
   ],
   "source": [
    "# R に於ける qnorm、ppf は Percent point function の略らしい\n",
    "# http://kaisk.hatenadiary.com/entry/2015/02/17/192955\n",
    "print(stats.norm.ppf(0.025))\n",
    "print(stats.norm.ppf(0.975))"
   ]
  },
  {
   "cell_type": "code",
   "execution_count": 6,
   "metadata": {},
   "outputs": [
    {
     "name": "stdout",
     "output_type": "stream",
     "text": [
      "0.00233886749052\n"
     ]
    }
   ],
   "source": [
    "# p 値を計算する\n",
    "# R に於ける pnorm、cdf は Cumulative density function 略らしい\n",
    "print(stats.norm.cdf(z))"
   ]
  },
  {
   "cell_type": "markdown",
   "metadata": {},
   "source": [
    "p < α = 0.05 なので棄却域に入っている。帰無仮説 (心理学テストの母平均=12) は棄却される。"
   ]
  },
  {
   "cell_type": "markdown",
   "metadata": {},
   "source": [
    "#### t分布を用いた検定\n",
    "\n",
    "1 つの平均値の検定。母分散$σ^{2}$ が未知。\n",
    "母分散が未知なので Z 検定は出来ない。未知のσの変りに、標本の不偏分散の正の平方根である$\\hat{σ}$を使う。\n",
    "すなわち\n",
    "$$\n",
    "t = \\frac{\\overline{X}-μ}{\\hat{σ}/\\sqrt{n}}\n",
    "$$\n",
    "を使う。"
   ]
  },
  {
   "cell_type": "code",
   "execution_count": 7,
   "metadata": {},
   "outputs": [
    {
     "name": "stdout",
     "output_type": "stream",
     "text": [
      "-2.61664801738\n"
     ]
    }
   ],
   "source": [
    "tnumerator = np.mean(ptest) - pmean\n",
    "tdenominator = np.sqrt(np.var(ptest, ddof=1)/len(ptest))\n",
    "t = tnumerator / tdenominator\n",
    "print(t)"
   ]
  },
  {
   "cell_type": "code",
   "execution_count": 8,
   "metadata": {},
   "outputs": [
    {
     "name": "stdout",
     "output_type": "stream",
     "text": [
      "-2.61664801738 0.0169709202696\n"
     ]
    }
   ],
   "source": [
    "# scipy で t 検定\n",
    "# 標本の配列と母平均を与えれば、自由度などは自動計算してくれる\n",
    "stat, pval = stats.ttest_1samp(ptest, pmean)\n",
    "print(stat, pval)"
   ]
  },
  {
   "cell_type": "markdown",
   "metadata": {},
   "source": [
    "p 値が 0.016 なので帰無仮説は棄却される。"
   ]
  },
  {
   "cell_type": "markdown",
   "metadata": {},
   "source": [
    "#### 相関係数の検定\n",
    "\n",
    "母集団に於いて相関が 0 である、という帰無仮説を行なう。無相関検定とも呼ぶ。\n",
    "標本相関係数 r を以下の式で変形した t 分布を用いて検定する。\n",
    "$$\n",
    "t = \\frac{r\\sqrt{n-2}}{\\sqrt{1-r^{2}}}\n",
    "$$"
   ]
  },
  {
   "cell_type": "code",
   "execution_count": 9,
   "metadata": {},
   "outputs": [],
   "source": [
    "stest1 = np.array([6,10,6,10,5,3,5,9,3,3,11,6,1,9,7,5,8,7,7,9])\n",
    "stest2 = np.array([10,13,8,15,8,6,9,10,7,3,18,14,18,11,12,5,7,12,7,7])"
   ]
  },
  {
   "cell_type": "code",
   "execution_count": 10,
   "metadata": {},
   "outputs": [
    {
     "data": {
      "text/plain": [
       "(0.33321217127508301, 0.15110815950226755)"
      ]
     },
     "execution_count": 10,
     "metadata": {},
     "output_type": "execute_result"
    }
   ],
   "source": [
    "# scipy にピアソン相関を求めるメソッドがある\n",
    "stats.pearsonr(stest2, stest1)\n",
    "# なんか書籍と値が違う"
   ]
  },
  {
   "cell_type": "code",
   "execution_count": 11,
   "metadata": {},
   "outputs": [
    {
     "name": "stdout",
     "output_type": "stream",
     "text": [
      "-3.1708036332 0.00300275633819\n"
     ]
    }
   ],
   "source": [
    "# scipy で t 検定\n",
    "# 2つの互いに独立な標本の場合、ttest_ind を使う\n",
    "# https://docs.scipy.org/doc/scipy/reference/generated/scipy.stats.ttest_ind.html#scipy.stats.ttest_ind\n",
    "stat, pval = stats.ttest_ind(stest1, stest2)\n",
    "print(stat, pval)"
   ]
  },
  {
   "cell_type": "code",
   "execution_count": 12,
   "metadata": {},
   "outputs": [
    {
     "name": "stdout",
     "output_type": "stream",
     "text": [
      "-3.1708036332 0.00327795279482\n"
     ]
    }
   ],
   "source": [
    "# ttest_ind に equal_var = False とするとウェルチのt検定になる、らしいけどウェルチのt検定がそもそもわからん\n",
    "wstat, wpval = stats.ttest_ind(stest1, stest2, equal_var=False)\n",
    "print(wstat, wpval)"
   ]
  },
  {
   "cell_type": "markdown",
   "metadata": {},
   "source": [
    "#### 独立性の検定\n"
   ]
  },
  {
   "cell_type": "code",
   "execution_count": 13,
   "metadata": {},
   "outputs": [
    {
     "name": "stdout",
     "output_type": "stream",
     "text": [
      "     len   \n",
      "stat   h  l\n",
      "math       \n",
      "h     10  4\n",
      "l      2  4\n"
     ]
    }
   ],
   "source": [
    "df = pd.DataFrame({'math' : np.array([\"h\", \"h\",\"l\",\"l\",\"h\",\"h\",\"h\",\"h\",\"h\",\"l\",\"l\",\"h\",\"l\",\"h\",\"h\",\"l\",\"h\",\"h\",\"h\",\"h\"]),\n",
    "                   'stat' : np.array([\"l\",\"l\",\"l\",\"l\",\"h\",\"h\",\"h\",\"h\",\"h\",\"h\",\"l\",\"l\",\"l\",\"h\",\"l\",\"h\",\"h\",\"h\",\"h\",\"h\"])})\n",
    "print(df.pivot_table(index='math', columns='stat', aggfunc=[len]))\n",
    "cross = pd.crosstab(df['stat'],df['math'])"
   ]
  },
  {
   "cell_type": "code",
   "execution_count": 14,
   "metadata": {},
   "outputs": [
    {
     "name": "stdout",
     "output_type": "stream",
     "text": [
      "1.2003968254 0.27324238011 1\n"
     ]
    }
   ],
   "source": [
    "chi2, pvalue, dof, exep = stats.chi2_contingency(cross)\n",
    "print(chi2, pvalue, dof)\n",
    "# なんか書籍と値が違う。"
   ]
  },
  {
   "cell_type": "code",
   "execution_count": 59,
   "metadata": {},
   "outputs": [
    {
     "data": {
      "text/plain": [
       "Text(-100,40,' ')"
      ]
     },
     "execution_count": 59,
     "metadata": {},
     "output_type": "execute_result"
    },
    {
     "data": {
      "image/png": "[encoded data removed]",
      "text/plain": [
       "<matplotlib.figure.Figure at 0x1689ce5f8>"
      ]
     },
     "metadata": {},
     "output_type": "display_data"
    }
   ],
   "source": [
    "# いろいろグラフを描いてみる\n",
    "x = np.linspace(-3.0, 3.0, 100)\n",
    "y = stats.norm.pdf(x=x, loc=0, scale=1.0)\n",
    "plt.plot(x,y,color=\"blue\")\n",
    "l =stats.norm.ppf(0.025)\n",
    "h =stats.norm.ppf(0.975)\n",
    "y1 = stats.norm.pdf(x=l,loc=0,scale=1.0)\n",
    "plt.plot([l,l],[0,0.4],color='red')\n",
    "plt.plot([h,h],[0,0.4],color='red')\n",
    "plt.annotate('critical region',\n",
    "             xy=(l, y1), xycoords='data',\n",
    "             xytext=(50, 50), textcoords='offset points', fontsize=12,\n",
    "             arrowprops=dict(arrowstyle=\"->\"))#, connectionstyle=\"arc3,rad=.2\"))\n",
    "plt.annotate(' ',\n",
    "             xy=(h, y1), xycoords='data',\n",
    "             xytext=(-100, 40), textcoords='offset points', fontsize=12,\n",
    "             arrowprops=dict(arrowstyle=\"->\"))#, connectionstyle=\"arc3,rad=.2\"))\n"
   ]
  },
  {
   "cell_type": "code",
   "execution_count": 67,
   "metadata": {},
   "outputs": [
    {
     "data": {
      "text/plain": [
       "<matplotlib.legend.Legend at 0x16900d080>"
      ]
     },
     "execution_count": 67,
     "metadata": {},
     "output_type": "execute_result"
    },
    {
     "data": {
      "image/png": "[encoded data removed]",
      "text/plain": [
       "<matplotlib.figure.Figure at 0x168c2bcc0>"
      ]
     },
     "metadata": {},
     "output_type": "display_data"
    }
   ],
   "source": [
    "# t分布\n",
    "x = np.linspace(-5.0, 5.0, 100)\n",
    "rv1 = stats.t(1) # 自由度1のt分布\n",
    "rv2 = stats.t(2)\n",
    "rv4 = stats.t(4)\n",
    "rv8 = stats.t(8)\n",
    "plt.plot(x,rv1.pdf(x),label=\"df=1\")\n",
    "plt.plot(x,rv2.pdf(x),label=\"df=2\")\n",
    "plt.plot(x,rv4.pdf(x),label=\"df=4\")\n",
    "plt.plot(x,rv8.pdf(x),label=\"df=8\")\n",
    "plt.legend(loc='upper left')"
   ]
  },
  {
   "cell_type": "code",
   "execution_count": 73,
   "metadata": {},
   "outputs": [
    {
     "data": {
      "text/plain": [
       "<matplotlib.legend.Legend at 0x169068828>"
      ]
     },
     "execution_count": 73,
     "metadata": {},
     "output_type": "execute_result"
    },
    {
     "data": {
      "image/png": "[encoded data removed]",
      "text/plain": [
       "<matplotlib.figure.Figure at 0x169068860>"
      ]
     },
     "metadata": {},
     "output_type": "display_data"
    }
   ],
   "source": [
    "# カイ二乗分布\n",
    "x = np.linspace(0, 20.0, 100)\n",
    "for k in [1,2,4,8]:\n",
    "    plt.plot(x, stats.chi2.pdf(x, df=k), label=\"df=%d\"%k)\n",
    "plt.legend(loc='upper right')"
   ]
  },
  {
   "cell_type": "code",
   "execution_count": null,
   "metadata": {},
   "outputs": [],
   "source": []
  }
 ],
 "metadata": {
  "kernelspec": {
   "display_name": "Python 3",
   "language": "python",
   "name": "python3"
  },
  "language_info": {
   "codemirror_mode": {
    "name": "ipython",
    "version": 3
   },
   "file_extension": ".py",
   "mimetype": "text/x-python",
   "name": "python",
   "nbconvert_exporter": "python",
   "pygments_lexer": "ipython3",
   "version": "3.6.4"
  }
 },
 "nbformat": 4,
 "nbformat_minor": 2
}
