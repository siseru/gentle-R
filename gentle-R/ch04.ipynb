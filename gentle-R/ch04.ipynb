{
 "cells": [
  {
   "cell_type": "markdown",
   "metadata": {},
   "source": [
    "### 第 4 章 母集団と標本\n",
    "\n",
    "2、3 章でやったのは、母集団であれ標本であれ手元にあるデータの集合を統計量を使って記述するという事。\n",
    "この章では、大きな集団 (母集団) から取り出した幾つかの標本を元に、母集団の性質について推測する推測統計。\n",
    "\n",
    "あとこの辺まで読んでびっくりしたのが、この本の中で「心理統計学の基礎 統合的理解のために」が何度も取り上げられている事。"
   ]
  },
  {
   "cell_type": "code",
   "execution_count": 17,
   "metadata": {},
   "outputs": [
    {
     "name": "stdout",
     "output_type": "stream",
     "text": [
      "169.36\n"
     ]
    }
   ],
   "source": [
    "#import statistics as stat\n",
    "import numpy as np\n",
    "import matplotlib.pyplot as plt\n",
    "import pandas as pd\n",
    "\n",
    "# 17 歳の日本人男性全体 (母集団) の標本として 10 個抽出\n",
    "# その平均で母数の平均を推測する\n",
    "h = np.array([165.2, 175.9, 161.7, 174.2, 172.1, 163.3, 170.9, 170.6, 168.4, 171.3])\n",
    "h_ave = np.mean(h)\n",
    "print(h_ave)"
   ]
  },
  {
   "cell_type": "markdown",
   "metadata": {},
   "source": [
    "#### 推定量と 推定値\n",
    "母集団の値 (母数) の推定の為に利用した、標本統計量を「推定量」と言う。上記の場合なら「算術平均値」を母数の推定量に使った、という事。\n",
    "\n",
    "また実際に標本データを使って計算した値を「推定値」と言う。上記で言えば h_ave = 169.36 が推定値。\n",
    "\n",
    "プログラミング的に表現するなら推定量は理論的に算出出来る「関数」で、推定値は「リテラル」。"
   ]
  },
  {
   "cell_type": "code",
   "execution_count": 18,
   "metadata": {},
   "outputs": [
    {
     "name": "stdout",
     "output_type": "stream",
     "text": [
      "21.6671111111\n",
      "19.5004\n"
     ]
    }
   ],
   "source": [
    "# numpy で不偏分散を計算\n",
    "h_var = np.var(h, ddof=1)\n",
    "print(h_var)\n",
    "\n",
    "# デフォルトだと標本分散になる\n",
    "print(np.var(h))"
   ]
  },
  {
   "cell_type": "code",
   "execution_count": 19,
   "metadata": {},
   "outputs": [
    {
     "name": "stdout",
     "output_type": "stream",
     "text": [
      "4\n"
     ]
    },
    {
     "data": {
      "text/plain": [
       "[2, 3, 4, 3, 1, 6, 3, 6, 6, 2, 6, 3, 2, 4, 1, 1, 5, 1, 5, 5]"
      ]
     },
     "execution_count": 19,
     "metadata": {},
     "output_type": "execute_result"
    }
   ],
   "source": [
    "# 乱数生成 numpy.random で出来る\n",
    "# https://qiita.com/yubais/items/bf9ce0a8fefdcc0b0c97\n",
    "from numpy.random import *\n",
    "# 1 から 6 の整数の乱数を 1 つ生成\n",
    "print(randint(1,6+1))\n",
    "list(randint(1,6+1,20))"
   ]
  },
  {
   "cell_type": "code",
   "execution_count": 20,
   "metadata": {},
   "outputs": [
    {
     "name": "stdout",
     "output_type": "stream",
     "text": [
      "5 2\n",
      "1 1\n",
      "2 1\n",
      "4 1\n",
      "6 1\n",
      "\n",
      "\n",
      "2 167127\n",
      "4 166761\n",
      "6 166677\n",
      "3 166649\n",
      "1 166457\n",
      "5 166329\n"
     ]
    }
   ],
   "source": [
    "from collections import Counter\n",
    "counter = Counter(randint(1,6+1,6))\n",
    "for word, cnt in counter.most_common():\n",
    "    print(word,cnt)\n",
    "\n",
    "print(\"\\n\")\n",
    "counter100 = Counter(randint(1,6+1,1000000))\n",
    "for word,cnt in counter100.most_common():\n",
    "    print(word,cnt)"
   ]
  },
  {
   "cell_type": "code",
   "execution_count": 25,
   "metadata": {},
   "outputs": [
    {
     "data": {
      "image/png": "[encoded data removed]",
      "text/plain": [
       "<matplotlib.figure.Figure at 0x7f930679b5f8>"
      ]
     },
     "metadata": {},
     "output_type": "display_data"
    }
   ],
   "source": [
    "plt.bar([\"M\", \"F\"], [2/3, 1/3])\n",
    "plt.show()"
   ]
  },
  {
   "cell_type": "code",
   "execution_count": 37,
   "metadata": {},
   "outputs": [
    {
     "data": {
      "image/png": "[encoded data removed]",
      "text/plain": [
       "<matplotlib.figure.Figure at 0x7f93065f9748>"
      ]
     },
     "metadata": {},
     "output_type": "display_data"
    }
   ],
   "source": [
    "# 正規分布の確率密度関数\n",
    "f = lambda x: (np.exp(-x**2/2)) / np.sqrt(2*np.pi)\n",
    "n = 1000\n",
    "p = [f(x) for x in np.linspace(-4,4,n)]\n",
    "plt.scatter(np.linspace(-4,4,n),p)\n",
    "plt.show()"
   ]
  },
  {
   "cell_type": "code",
   "execution_count": 45,
   "metadata": {},
   "outputs": [
    {
     "name": "stdout",
     "output_type": "stream",
     "text": [
      "[ 43.18817731  45.93021025  48.61258077  51.41517152  22.69788665]\n"
     ]
    },
    {
     "data": {
      "image/png": "[encoded data removed]",
      "text/plain": [
       "<matplotlib.figure.Figure at 0x7f9306466eb8>"
      ]
     },
     "metadata": {},
     "output_type": "display_data"
    }
   ],
   "source": [
    "# 正規母集団から単純無作為抽出\n",
    "# 平均 50、標準偏差 10、標本数 5\n",
    "sample = normal(50, 10, 5)\n",
    "print(sample)\n",
    "plt.hist(sample,bins=6)\n",
    "plt.show()"
   ]
  },
  {
   "cell_type": "code",
   "execution_count": 47,
   "metadata": {},
   "outputs": [
    {
     "data": {
      "image/png": "[encoded data removed]",
      "text/plain": [
       "<matplotlib.figure.Figure at 0x7f930656a0b8>"
      ]
     },
     "metadata": {},
     "output_type": "display_data"
    }
   ],
   "source": [
    "# 標本数 1万、中心極限定理が観察できる\n",
    "sample2 = normal(50, 10, 10000)\n",
    "plt.hist(sample2, bins=16)\n",
    "plt.show()"
   ]
  },
  {
   "cell_type": "code",
   "execution_count": 51,
   "metadata": {},
   "outputs": [
    {
     "name": "stdout",
     "output_type": "stream",
     "text": [
      "45.0366051714 [ 54.10431473  47.91864812  55.47318835  46.74851373  51.75296109\n",
      "  57.33983397  36.11324872  35.29190763  24.09140537  41.53203001]\n",
      "61.4958695533 [ 62.52188233  40.08330706  53.17507861  53.59026655  62.85203939\n",
      "  59.70500566  64.5804723   70.17621897  74.42216631  73.85225834]\n"
     ]
    }
   ],
   "source": [
    "# 母集団から単純無作為抽出で標本を複数回抽出しても、当然抽出されるものは同じではない\n",
    "# したがって、抽出する度にその標本値 (たとえば平均値) は異なる\n",
    "sample3 = normal(50, 10, 10)\n",
    "sample4 = normal(50, 10, 10)\n",
    "print(np.mean(sample3), sample3)\n",
    "print(np.mean(sample4), sample4)"
   ]
  },
  {
   "cell_type": "code",
   "execution_count": 62,
   "metadata": {},
   "outputs": [
    {
     "data": {
      "image/png": "[encoded data removed]",
      "text/plain": [
       "<matplotlib.figure.Figure at 0x7f930663dd30>"
      ]
     },
     "metadata": {},
     "output_type": "display_data"
    }
   ],
   "source": [
    "# 標本値の分布を求める\n",
    "# 平均 50、標準偏差 10の正規母集団から標本数 10 の単純無作為抽出を 1 万回行なう\n",
    "# それぞれの回の平均値を計算して、その平均値を分布を求める\n",
    "s_ave = np.empty(10000)\n",
    "for i in range(10000):\n",
    "    s = normal(50, 10, 10)  # N=10でサンプリング\n",
    "    s_ave[i] = np.mean(s)   # 標本平均を計算\n",
    "plt.hist(s_ave, bins=16)\n",
    "plt.show()"
   ]
  },
  {
   "cell_type": "code",
   "execution_count": 70,
   "metadata": {},
   "outputs": [
    {
     "name": "stdout",
     "output_type": "stream",
     "text": [
      "True 8858\n",
      "False 1142\n",
      "50.0017853539\n",
      "10.1963531462\n"
     ]
    }
   ],
   "source": [
    "s_5 = abs(s_ave - np.array([50]))<5\n",
    "cnt = Counter(s_5)\n",
    "for word, cnt in cnt.most_common():\n",
    "    print(word, cnt)\n",
    "print(np.mean(s_ave))\n",
    "print(np.var(s_ave))"
   ]
  },
  {
   "cell_type": "code",
   "execution_count": 72,
   "metadata": {},
   "outputs": [
    {
     "name": "stdout",
     "output_type": "stream",
     "text": [
      "89.9455442826 99.9394936473\n"
     ]
    }
   ],
   "source": [
    "# 標本分散と普遍分散の標本分布\n",
    "c = 10000\n",
    "s_var = np.empty(c)\n",
    "s_uvar = np.empty(c)\n",
    "\n",
    "for i in range(c):\n",
    "    s = normal(50, 10, 10)\n",
    "    s_var[i] = np.var(s)\n",
    "    s_uvar[i] = np.var(s, ddof=1)\n",
    "print(np.mean(s_var), np.mean(s_uvar))"
   ]
  },
  {
   "cell_type": "code",
   "execution_count": 74,
   "metadata": {},
   "outputs": [
    {
     "name": "stdout",
     "output_type": "stream",
     "text": [
      "42.3424359641 47.0471510713\n"
     ]
    }
   ],
   "source": [
    "print(np.std(s_var), np.std(s_uvar))"
   ]
  },
  {
   "cell_type": "code",
   "execution_count": 85,
   "metadata": {},
   "outputs": [
    {
     "data": {
      "image/png": "[encoded data removed]",
      "text/plain": [
       "<matplotlib.figure.Figure at 0x7f9305df16a0>"
      ]
     },
     "metadata": {},
     "output_type": "display_data"
    },
    {
     "data": {
      "image/png": "[encoded data removed]",
      "text/plain": [
       "<matplotlib.figure.Figure at 0x7f93061b1eb8>"
      ]
     },
     "metadata": {},
     "output_type": "display_data"
    }
   ],
   "source": [
    "plt.hist(s_var,range=(0,500),bins=50)\n",
    "plt.show()\n",
    "plt.hist(s_uvar,range=(0,500),bins=50)\n",
    "plt.show()"
   ]
  },
  {
   "cell_type": "code",
   "execution_count": 93,
   "metadata": {},
   "outputs": [
    {
     "name": "stdout",
     "output_type": "stream",
     "text": [
      "False 9799\n",
      "True 201\n",
      "False 9639\n",
      "True 361\n"
     ]
    }
   ],
   "source": [
    "s_var100 = s_var>200\n",
    "cnt = Counter(s_var100)\n",
    "for w, c in cnt.most_common():\n",
    "    print(w,c)\n",
    "s_uvar100 = s_uvar>200\n",
    "cnt2 = Counter(s_uvar100)\n",
    "for w, c in cnt2.most_common():\n",
    "    print(w,c)\n"
   ]
  },
  {
   "cell_type": "code",
   "execution_count": 96,
   "metadata": {},
   "outputs": [
    {
     "name": "stdout",
     "output_type": "stream",
     "text": [
      "9.72558172541\n"
     ]
    }
   ],
   "source": [
    "print(np.mean(np.sqrt(s_uvar)))"
   ]
  },
  {
   "cell_type": "code",
   "execution_count": 108,
   "metadata": {},
   "outputs": [
    {
     "name": "stdout",
     "output_type": "stream",
     "text": [
      "49.7934955374 49.8567878207\n"
     ]
    }
   ],
   "source": [
    "# 中央値の標本分布\n",
    "s_ave = np.empty(c)\n",
    "s_med = np.empty(c)\n",
    "for i in range(c):\n",
    "    s = normal(50, 10, 10)\n",
    "    s_ave[i] = np.mean(s)\n",
    "    s_med[i] = np.median(s)\n",
    "print(np.mean(s_ave), np.mean(s_med))"
   ]
  },
  {
   "cell_type": "code",
   "execution_count": 111,
   "metadata": {},
   "outputs": [
    {
     "name": "stdout",
     "output_type": "stream",
     "text": [
      "3.12068896852 3.7639414451\n"
     ]
    }
   ],
   "source": [
    "print(np.std(s_ave), np.std(s_med))"
   ]
  },
  {
   "cell_type": "code",
   "execution_count": 113,
   "metadata": {
    "scrolled": true
   },
   "outputs": [
    {
     "data": {
      "image/png": "[encoded data removed]",
      "text/plain": [
       "<matplotlib.figure.Figure at 0x7f9305d184e0>"
      ]
     },
     "metadata": {},
     "output_type": "display_data"
    },
    {
     "data": {
      "image/png": "[encoded data removed]",
      "text/plain": [
       "<matplotlib.figure.Figure at 0x7f9306131e80>"
      ]
     },
     "metadata": {},
     "output_type": "display_data"
    }
   ],
   "source": [
    "plt.hist(s_ave, bins=16)\n",
    "plt.show()\n",
    "plt.hist(s_med, bins=16)\n",
    "plt.show()\n"
   ]
  },
  {
   "cell_type": "markdown",
   "metadata": {},
   "source": []
  },
  {
   "cell_type": "code",
   "execution_count": null,
   "metadata": {},
   "outputs": [],
   "source": []
  }
 ],
 "metadata": {
  "kernelspec": {
   "display_name": "Python 3",
   "language": "python",
   "name": "python3"
  },
  "language_info": {
   "codemirror_mode": {
    "name": "ipython",
    "version": 3
   },
   "file_extension": ".py",
   "mimetype": "text/x-python",
   "name": "python",
   "nbconvert_exporter": "python",
   "pygments_lexer": "ipython3",
   "version": "3.6.3"
  }
 },
 "nbformat": 4,
 "nbformat_minor": 2
}
